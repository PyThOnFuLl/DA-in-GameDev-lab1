{
  "nbformat": 4,
  "nbformat_minor": 0,
  "metadata": {
    "colab": {
      "provenance": [],
      "collapsed_sections": [],
      "authorship_tag": "ABX9TyM9zFpVg7G/MvCV6nTVgSKI"
    },
    "kernelspec": {
      "name": "python3",
      "display_name": "Python 3"
    },
    "language_info": {
      "name": "python"
    }
  },
  "cells": [
    {
      "cell_type": "code",
      "execution_count": 10,
      "metadata": {
        "colab": {
          "base_uri": "https://localhost:8080/",
          "height": 282
        },
        "id": "HfIYonqsNKzk",
        "outputId": "2323577f-e308-4462-a0c5-e6b2f4d3a238"
      },
      "outputs": [
        {
          "output_type": "execute_result",
          "data": {
            "text/plain": [
              "<matplotlib.collections.PathCollection at 0x7f6f4da97ed0>"
            ]
          },
          "metadata": {},
          "execution_count": 10
        },
        {
          "output_type": "display_data",
          "data": {
            "text/plain": [
              "<Figure size 432x288 with 1 Axes>"
            ],
            "image/png": "[encoded data removed]"
          },
          "metadata": {
            "needs_background": "light"
          }
        }
      ],
      "source": [
        "# Import the required modules, numpy for calculation, and Matplotlib for drawing\n",
        "import numpy as np\n",
        "import matplotlib.pyplot as plt\n",
        "\n",
        "# This code is for jupyter Notebook only\n",
        "%matplotlib inline\n",
        "\n",
        "# define data, and change list to array\n",
        "x = [3,21,22,34,54,34,55,67,89,99]\n",
        "x = np.array(x)\n",
        "y = [2,22,24,65,79,82,55,130,150,199]\n",
        "y = np.array(y)\n",
        "\n",
        "# Show the effect of a scatter plot\n",
        "plt.scatter(x, y)"
      ]
    },
    {
      "cell_type": "code",
      "source": [
        "# The basic linear regression model is wx+ b, and since this is a two-dimensional space, the model is ax+ b\n",
        "def model(a, b, x):\n",
        "  return a * x + b\n",
        "\n",
        "\n",
        "# Tahe most commonly used loss function of linear regression model is the loss function of mean variance difference\n",
        "def loss_function(a, b, x, y):\n",
        "  num = len(x)\n",
        "  prediction=model(a, b, x)\n",
        "\n",
        "  return (0.5 / num) * (np.square(prediction - y)).sum()\n",
        "\n",
        "\n",
        "#The optimization function mainly USES partial derivatives to update two parameters a and b\n",
        "def optimize(a, b, x, y):\n",
        "  num = len(x)\n",
        "  prediction = model(a, b, x)\n",
        "  \n",
        "  #Update the values of A and B by finding the partial derivatives of the loss function on a and b\n",
        "  da = (1.0 / num) * ((prediction - y) *x).sum()\n",
        "  db = (1.0 / num) * ((prediction - y).sum())\n",
        "  a = a - Lr * da\n",
        "  b = b - Lr * db\n",
        "\n",
        "  return a, b\n",
        "\n",
        "\n",
        "#iterated function, return a and b\n",
        "def iterate(a, b, x, y, times):\n",
        "  for i in range(times):\n",
        "    a, b = optimize(a, b, x, y)\n",
        "  return a, b"
      ],
      "metadata": {
        "id": "ebTX2pFsNQ0q"
      },
      "execution_count": 11,
      "outputs": []
    },
    {
      "cell_type": "code",
      "source": [
        "# Initialize parameters and display\n",
        "a = np.random.rand(1)\n",
        "print(a)\n",
        "\n",
        "b = np.random.rand(1)\n",
        "\n",
        "print(b)\n",
        "Lr = 0.000001\n",
        "\n",
        "# For the first iteration, the parameter values, losses, and visualization after the iteration are displayed\n",
        "a, b = iterate(a, b, x, y, 1)\n",
        "\n",
        "prediction=model(a, b, x)\n",
        "loss = loss_function(a, b, x, y)\n",
        "print(a, b, loss)\n",
        "\n",
        "plt.scatter(x, y)\n",
        "plt.plot(x, prediction)"
      ],
      "metadata": {
        "colab": {
          "base_uri": "https://localhost:8080/",
          "height": 334
        },
        "id": "6EU8WHOsNkhn",
        "outputId": "40c0779c-f4bc-4823-eabe-84f0c6ba5d88"
      },
      "execution_count": 12,
      "outputs": [
        {
          "output_type": "stream",
          "name": "stdout",
          "text": [
            "[0.96093309]\n",
            "[0.83619131]\n",
            "[0.96338058] [0.83622534] 1139.293279796542\n"
          ]
        },
        {
          "output_type": "execute_result",
          "data": {
            "text/plain": [
              "[<matplotlib.lines.Line2D at 0x7f6f4da6d150>]"
            ]
          },
          "metadata": {},
          "execution_count": 12
        },
        {
          "output_type": "display_data",
          "data": {
            "text/plain": [
              "<Figure size 432x288 with 1 Axes>"
            ],
            "image/png": "[encoded data removed]"
          },
          "metadata": {
            "needs_background": "light"
          }
        }
      ]
    },
    {
      "cell_type": "code",
      "source": [
        "a, b = iterate(a, b, x, y, 2)\n",
        "prediction=model(a, b, x)\n",
        "loss = loss_function(a, b, x, y)\n",
        "\n",
        "print(a, b, loss)\n",
        "plt.scatter(x, y)\n",
        "plt.plot(x, prediction)"
      ],
      "metadata": {
        "colab": {
          "base_uri": "https://localhost:8080/",
          "height": 300
        },
        "id": "jInQQHcTWtbw",
        "outputId": "577d9d6a-0238-47cc-80e8-40d9230aca41"
      },
      "execution_count": 13,
      "outputs": [
        {
          "output_type": "stream",
          "name": "stdout",
          "text": [
            "[0.96825253] [0.83629305] 1127.4416487679846\n"
          ]
        },
        {
          "output_type": "execute_result",
          "data": {
            "text/plain": [
              "[<matplotlib.lines.Line2D at 0x7f6f4da3a390>]"
            ]
          },
          "metadata": {},
          "execution_count": 13
        },
        {
          "output_type": "display_data",
          "data": {
            "text/plain": [
              "<Figure size 432x288 with 1 Axes>"
            ],
            "image/png": "[encoded data removed]"
          },
          "metadata": {
            "needs_background": "light"
          }
        }
      ]
    },
    {
      "cell_type": "code",
      "source": [
        "a,b = iterate(a, b, x, y, 3)\n",
        "prediction=model(a, b, x)\n",
        "loss = loss_function(a, b, x, y)\n",
        "\n",
        "print(a, b, loss)\n",
        "plt.scatter(x, y)\n",
        "plt.plot(x, prediction)"
      ],
      "metadata": {
        "colab": {
          "base_uri": "https://localhost:8080/",
          "height": 300
        },
        "id": "xgZV_8ELXDGX",
        "outputId": "54216d9c-7bab-4574-9446-dbcaaeeee233"
      },
      "execution_count": 14,
      "outputs": [
        {
          "output_type": "stream",
          "name": "stdout",
          "text": [
            "[0.97550323] [0.83639375] 1109.9414623947657\n"
          ]
        },
        {
          "output_type": "execute_result",
          "data": {
            "text/plain": [
              "[<matplotlib.lines.Line2D at 0x7f6f4d94fb10>]"
            ]
          },
          "metadata": {},
          "execution_count": 14
        },
        {
          "output_type": "display_data",
          "data": {
            "text/plain": [
              "<Figure size 432x288 with 1 Axes>"
            ],
            "image/png": "[encoded data removed]"
          },
          "metadata": {
            "needs_background": "light"
          }
        }
      ]
    },
    {
      "cell_type": "code",
      "source": [
        "a,b = iterate(a, b, x, y, 4)\n",
        "prediction=model(a, b, x)\n",
        "loss = loss_function(a, b, x, y)\n",
        "\n",
        "print(a, b, loss)\n",
        "plt.scatter(x, y)\n",
        "plt.plot(x, prediction)"
      ],
      "metadata": {
        "colab": {
          "base_uri": "https://localhost:8080/",
          "height": 300
        },
        "id": "L_cHN2QSXI5s",
        "outputId": "83546982-72ea-471d-bb40-889666e11525"
      },
      "execution_count": 15,
      "outputs": [
        {
          "output_type": "stream",
          "name": "stdout",
          "text": [
            "[0.98506501] [0.8365264] 1087.115766850309\n"
          ]
        },
        {
          "output_type": "execute_result",
          "data": {
            "text/plain": [
              "[<matplotlib.lines.Line2D at 0x7f6f4d8c8950>]"
            ]
          },
          "metadata": {},
          "execution_count": 15
        },
        {
          "output_type": "display_data",
          "data": {
            "text/plain": [
              "<Figure size 432x288 with 1 Axes>"
            ],
            "image/png": "[encoded data removed]"
          },
          "metadata": {
            "needs_background": "light"
          }
        }
      ]
    },
    {
      "cell_type": "code",
      "source": [
        "a,b = iterate(a, b, x, y, 5)\n",
        "prediction=model(a, b, x)\n",
        "loss = loss_function(a, b, x, y)\n",
        "\n",
        "print(a, b, loss)\n",
        "plt.scatter(x, y)\n",
        "plt.plot(x, prediction)"
      ],
      "metadata": {
        "colab": {
          "base_uri": "https://localhost:8080/",
          "height": 300
        },
        "id": "mgB5gQLoXNAT",
        "outputId": "62729e4c-a284-410b-9de7-b10406087bc3"
      },
      "execution_count": 16,
      "outputs": [
        {
          "output_type": "stream",
          "name": "stdout",
          "text": [
            "[0.99684929] [0.83668966] 1059.379630693427\n"
          ]
        },
        {
          "output_type": "execute_result",
          "data": {
            "text/plain": [
              "[<matplotlib.lines.Line2D at 0x7f6f4dbd5e50>]"
            ]
          },
          "metadata": {},
          "execution_count": 16
        },
        {
          "output_type": "display_data",
          "data": {
            "text/plain": [
              "<Figure size 432x288 with 1 Axes>"
            ],
            "image/png": "[encoded data removed]"
          },
          "metadata": {
            "needs_background": "light"
          }
        }
      ]
    },
    {
      "cell_type": "code",
      "source": [
        "a,b = iterate(a, b, x, y, 10000)\n",
        "prediction=model(a, b, x)\n",
        "loss = loss_function(a, b, x, y)\n",
        "\n",
        "print(a, b, loss)\n",
        "plt.scatter(x, y)\n",
        "plt.plot(x, prediction)"
      ],
      "metadata": {
        "colab": {
          "base_uri": "https://localhost:8080/",
          "height": 300
        },
        "id": "dUAZ9lRRXTrn",
        "outputId": "b8541a99-0969-43bb-bb86-096cabeb380d"
      },
      "execution_count": 17,
      "outputs": [
        {
          "output_type": "stream",
          "name": "stdout",
          "text": [
            "[1.74073469] [0.81573554] 191.29199352297655\n"
          ]
        },
        {
          "output_type": "execute_result",
          "data": {
            "text/plain": [
              "[<matplotlib.lines.Line2D at 0x7f6f4da3a290>]"
            ]
          },
          "metadata": {},
          "execution_count": 17
        },
        {
          "output_type": "display_data",
          "data": {
            "text/plain": [
              "<Figure size 432x288 with 1 Axes>"
            ],
            "image/png": "[encoded data removed]"
          },
          "metadata": {
            "needs_background": "light"
          }
        }
      ]
    },
    {
      "cell_type": "code",
      "source": [],
      "metadata": {
        "id": "iTuynySTNxHA"
      },
      "execution_count": null,
      "outputs": []
    }
  ]
}